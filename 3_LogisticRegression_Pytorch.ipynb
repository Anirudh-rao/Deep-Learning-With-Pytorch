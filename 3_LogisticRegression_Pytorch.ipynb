{
  "nbformat": 4,
  "nbformat_minor": 0,
  "metadata": {
    "colab": {
      "provenance": []
    },
    "kernelspec": {
      "name": "python3",
      "display_name": "Python 3"
    },
    "language_info": {
      "name": "python"
    }
  },
  "cells": [
    {
      "cell_type": "markdown",
      "source": [
        "A logistic regression model is almost identical to a linear regression model. It contains weights and bias matrices, and the output is obtained using simple matrix operations (pred = x @ w.t() + b).\n",
        "\n",
        "As we did with linear regression, we can use nn.Linear to create the model instead of manually creating and initializing the matrices.\n",
        "\n",
        "Since nn.Linear expects each training example to be a vector, each 1x28x28 image tensor is flattened into a vector of size 784 (28*28) before being passed into the model.\n",
        "\n",
        "The output for each image is a vector of size 10, with each element signifying the probability of a particular target label (i.e., 0 to 9). The predicted label for an image is simply the one with the highest probability."
      ],
      "metadata": {
        "id": "mEtMDPasqEwE"
      }
    },
    {
      "cell_type": "code",
      "source": [
        "\n",
        "# Imports\n",
        "import torch\n",
        "import torchvision\n",
        "from torchvision.datasets import MNIST\n",
        "import torchvision.transforms as transforms\n",
        "from torch.utils.data import random_split\n",
        "from torch.utils.data  import DataLoader\n",
        "\n",
        "import torch.nn as nn\n",
        "\n",
        "input_size =  28*28\n",
        "num_classes = 10\n",
        "\n",
        "#Logistic Regression Model\n",
        "model =  nn.Linear(input_size, num_classes)"
      ],
      "metadata": {
        "id": "Un8DdTIjqG_d"
      },
      "execution_count": 9,
      "outputs": []
    },
    {
      "cell_type": "code",
      "source": [
        "#Preparing Data\n",
        "# Download training dataset\n",
        "dataset = MNIST(root='data/', download=True)\n",
        "# MNIST dataset (images and labels)\n",
        "dataset = MNIST(root='data/',\n",
        "                train=True,\n",
        "                transform=transforms.ToTensor())\n",
        "\n",
        "#Test_Data\n",
        "test_dataset = MNIST(root='data/', train=False)\n",
        "\n",
        "#Train and Validation Data\n",
        "train_ds, val_ds = random_split(dataset, [50000, 10000])\n",
        "len(train_ds), len(val_ds)\n",
        "\n",
        "#Batch Data\n",
        "batch_size = 128\n",
        "\n",
        "train_loader = DataLoader(train_ds, batch_size, shuffle=True)\n",
        "val_loader = DataLoader(val_ds, batch_size)"
      ],
      "metadata": {
        "colab": {
          "base_uri": "https://localhost:8080/"
        },
        "id": "a4jgcX_Bq88k",
        "outputId": "f9930b35-13fb-4266-ecbc-b1031c2a08d8"
      },
      "execution_count": 11,
      "outputs": [
        {
          "output_type": "stream",
          "name": "stdout",
          "text": [
            "Downloading http://yann.lecun.com/exdb/mnist/train-images-idx3-ubyte.gz\n",
            "Downloading http://yann.lecun.com/exdb/mnist/train-images-idx3-ubyte.gz to data/MNIST/raw/train-images-idx3-ubyte.gz\n"
          ]
        },
        {
          "output_type": "stream",
          "name": "stderr",
          "text": [
            "100%|██████████| 9912422/9912422 [00:00<00:00, 147042615.08it/s]\n"
          ]
        },
        {
          "output_type": "stream",
          "name": "stdout",
          "text": [
            "Extracting data/MNIST/raw/train-images-idx3-ubyte.gz to data/MNIST/raw\n",
            "\n",
            "Downloading http://yann.lecun.com/exdb/mnist/train-labels-idx1-ubyte.gz\n",
            "Downloading http://yann.lecun.com/exdb/mnist/train-labels-idx1-ubyte.gz to data/MNIST/raw/train-labels-idx1-ubyte.gz\n"
          ]
        },
        {
          "output_type": "stream",
          "name": "stderr",
          "text": [
            "100%|██████████| 28881/28881 [00:00<00:00, 76522864.07it/s]\n"
          ]
        },
        {
          "output_type": "stream",
          "name": "stdout",
          "text": [
            "Extracting data/MNIST/raw/train-labels-idx1-ubyte.gz to data/MNIST/raw\n",
            "\n",
            "Downloading http://yann.lecun.com/exdb/mnist/t10k-images-idx3-ubyte.gz\n",
            "Downloading http://yann.lecun.com/exdb/mnist/t10k-images-idx3-ubyte.gz to data/MNIST/raw/t10k-images-idx3-ubyte.gz\n"
          ]
        },
        {
          "output_type": "stream",
          "name": "stderr",
          "text": [
            "100%|██████████| 1648877/1648877 [00:00<00:00, 29614320.08it/s]\n"
          ]
        },
        {
          "output_type": "stream",
          "name": "stdout",
          "text": [
            "Extracting data/MNIST/raw/t10k-images-idx3-ubyte.gz to data/MNIST/raw\n",
            "\n",
            "Downloading http://yann.lecun.com/exdb/mnist/t10k-labels-idx1-ubyte.gz\n",
            "Downloading http://yann.lecun.com/exdb/mnist/t10k-labels-idx1-ubyte.gz to data/MNIST/raw/t10k-labels-idx1-ubyte.gz\n"
          ]
        },
        {
          "output_type": "stream",
          "name": "stderr",
          "text": [
            "100%|██████████| 4542/4542 [00:00<00:00, 10619023.84it/s]\n"
          ]
        },
        {
          "output_type": "stream",
          "name": "stdout",
          "text": [
            "Extracting data/MNIST/raw/t10k-labels-idx1-ubyte.gz to data/MNIST/raw\n",
            "\n"
          ]
        }
      ]
    },
    {
      "cell_type": "markdown",
      "source": [
        "Of course, this model is a lot larger than our previous model in terms of the number of parameters. Let's take a look at the weights and biases."
      ],
      "metadata": {
        "id": "0X8SKvyWqo8g"
      }
    },
    {
      "cell_type": "code",
      "source": [
        "print(model.weight.shape)\n",
        "model.weight"
      ],
      "metadata": {
        "colab": {
          "base_uri": "https://localhost:8080/"
        },
        "id": "t0VUGE7LqpWN",
        "outputId": "54661a54-b1b0-437a-ecfe-20302d8795b0"
      },
      "execution_count": 3,
      "outputs": [
        {
          "output_type": "stream",
          "name": "stdout",
          "text": [
            "torch.Size([10, 784])\n"
          ]
        },
        {
          "output_type": "execute_result",
          "data": {
            "text/plain": [
              "Parameter containing:\n",
              "tensor([[-0.0046, -0.0165, -0.0266,  ..., -0.0195,  0.0134, -0.0075],\n",
              "        [-0.0297,  0.0141,  0.0266,  ...,  0.0039, -0.0261, -0.0341],\n",
              "        [-0.0058, -0.0241,  0.0084,  ...,  0.0042,  0.0243,  0.0005],\n",
              "        ...,\n",
              "        [-0.0103, -0.0255,  0.0145,  ...,  0.0001,  0.0053, -0.0175],\n",
              "        [ 0.0347, -0.0317,  0.0036,  ...,  0.0066,  0.0055, -0.0197],\n",
              "        [ 0.0042, -0.0232,  0.0113,  ..., -0.0258, -0.0055,  0.0219]],\n",
              "       requires_grad=True)"
            ]
          },
          "metadata": {},
          "execution_count": 3
        }
      ]
    },
    {
      "cell_type": "code",
      "source": [
        "print(model.bias.shape)\n",
        "model.bias"
      ],
      "metadata": {
        "colab": {
          "base_uri": "https://localhost:8080/"
        },
        "id": "G_XVoQ-Hqw63",
        "outputId": "aec1c014-ce07-4ad8-d0ed-c403433d4ac4"
      },
      "execution_count": 4,
      "outputs": [
        {
          "output_type": "stream",
          "name": "stdout",
          "text": [
            "torch.Size([10])\n"
          ]
        },
        {
          "output_type": "execute_result",
          "data": {
            "text/plain": [
              "Parameter containing:\n",
              "tensor([ 0.0327, -0.0093,  0.0031, -0.0166,  0.0043, -0.0357,  0.0145,  0.0145,\n",
              "        -0.0272, -0.0179], requires_grad=True)"
            ]
          },
          "metadata": {},
          "execution_count": 4
        }
      ]
    },
    {
      "cell_type": "markdown",
      "source": [
        "Although there are a total of 7850 parameters here, conceptually, nothing has changed so far. Let's try and generate some outputs using our model. We'll take the first batch of 100 images from our dataset and pass them into our model."
      ],
      "metadata": {
        "id": "hLpMP5wrqzYF"
      }
    },
    {
      "cell_type": "code",
      "source": [
        "for images, labels in train_loader:\n",
        "    print(labels)\n",
        "    print(images.shape)\n",
        "    outputs = model(images)\n",
        "    print(outputs)\n",
        "    break"
      ],
      "metadata": {
        "colab": {
          "base_uri": "https://localhost:8080/",
          "height": 502
        },
        "id": "5cNx4MZ9q00z",
        "outputId": "b82f0e36-472b-45f3-e79a-b7654a7cdf68"
      },
      "execution_count": 12,
      "outputs": [
        {
          "output_type": "stream",
          "name": "stdout",
          "text": [
            "tensor([8, 5, 0, 9, 7, 7, 9, 8, 0, 2, 0, 9, 4, 1, 3, 4, 1, 4, 5, 9, 3, 4, 3, 5,\n",
            "        2, 9, 9, 3, 9, 4, 3, 5, 4, 0, 4, 7, 1, 3, 7, 0, 1, 4, 1, 6, 6, 0, 6, 0,\n",
            "        9, 8, 6, 6, 5, 2, 2, 3, 7, 6, 7, 9, 7, 8, 7, 9, 8, 4, 0, 5, 8, 1, 7, 6,\n",
            "        8, 8, 7, 0, 8, 4, 1, 5, 1, 0, 2, 6, 2, 8, 4, 4, 2, 2, 9, 4, 7, 0, 1, 4,\n",
            "        3, 6, 2, 4, 4, 3, 3, 5, 1, 5, 8, 0, 4, 6, 5, 4, 3, 9, 6, 3, 2, 6, 2, 7,\n",
            "        2, 7, 3, 1, 1, 7, 0, 9])\n",
            "torch.Size([128, 1, 28, 28])\n"
          ]
        },
        {
          "output_type": "error",
          "ename": "RuntimeError",
          "evalue": "ignored",
          "traceback": [
            "\u001b[0;31m---------------------------------------------------------------------------\u001b[0m",
            "\u001b[0;31mRuntimeError\u001b[0m                              Traceback (most recent call last)",
            "\u001b[0;32m<ipython-input-12-d0fe7d306f83>\u001b[0m in \u001b[0;36m<cell line: 1>\u001b[0;34m()\u001b[0m\n\u001b[1;32m      2\u001b[0m     \u001b[0mprint\u001b[0m\u001b[0;34m(\u001b[0m\u001b[0mlabels\u001b[0m\u001b[0;34m)\u001b[0m\u001b[0;34m\u001b[0m\u001b[0;34m\u001b[0m\u001b[0m\n\u001b[1;32m      3\u001b[0m     \u001b[0mprint\u001b[0m\u001b[0;34m(\u001b[0m\u001b[0mimages\u001b[0m\u001b[0;34m.\u001b[0m\u001b[0mshape\u001b[0m\u001b[0;34m)\u001b[0m\u001b[0;34m\u001b[0m\u001b[0;34m\u001b[0m\u001b[0m\n\u001b[0;32m----> 4\u001b[0;31m     \u001b[0moutputs\u001b[0m \u001b[0;34m=\u001b[0m \u001b[0mmodel\u001b[0m\u001b[0;34m(\u001b[0m\u001b[0mimages\u001b[0m\u001b[0;34m)\u001b[0m\u001b[0;34m\u001b[0m\u001b[0;34m\u001b[0m\u001b[0m\n\u001b[0m\u001b[1;32m      5\u001b[0m     \u001b[0mprint\u001b[0m\u001b[0;34m(\u001b[0m\u001b[0moutputs\u001b[0m\u001b[0;34m)\u001b[0m\u001b[0;34m\u001b[0m\u001b[0;34m\u001b[0m\u001b[0m\n\u001b[1;32m      6\u001b[0m     \u001b[0;32mbreak\u001b[0m\u001b[0;34m\u001b[0m\u001b[0;34m\u001b[0m\u001b[0m\n",
            "\u001b[0;32m/usr/local/lib/python3.10/dist-packages/torch/nn/modules/module.py\u001b[0m in \u001b[0;36m_call_impl\u001b[0;34m(self, *args, **kwargs)\u001b[0m\n\u001b[1;32m   1499\u001b[0m                 \u001b[0;32mor\u001b[0m \u001b[0m_global_backward_pre_hooks\u001b[0m \u001b[0;32mor\u001b[0m \u001b[0m_global_backward_hooks\u001b[0m\u001b[0;34m\u001b[0m\u001b[0;34m\u001b[0m\u001b[0m\n\u001b[1;32m   1500\u001b[0m                 or _global_forward_hooks or _global_forward_pre_hooks):\n\u001b[0;32m-> 1501\u001b[0;31m             \u001b[0;32mreturn\u001b[0m \u001b[0mforward_call\u001b[0m\u001b[0;34m(\u001b[0m\u001b[0;34m*\u001b[0m\u001b[0margs\u001b[0m\u001b[0;34m,\u001b[0m \u001b[0;34m**\u001b[0m\u001b[0mkwargs\u001b[0m\u001b[0;34m)\u001b[0m\u001b[0;34m\u001b[0m\u001b[0;34m\u001b[0m\u001b[0m\n\u001b[0m\u001b[1;32m   1502\u001b[0m         \u001b[0;31m# Do not call functions when jit is used\u001b[0m\u001b[0;34m\u001b[0m\u001b[0;34m\u001b[0m\u001b[0m\n\u001b[1;32m   1503\u001b[0m         \u001b[0mfull_backward_hooks\u001b[0m\u001b[0;34m,\u001b[0m \u001b[0mnon_full_backward_hooks\u001b[0m \u001b[0;34m=\u001b[0m \u001b[0;34m[\u001b[0m\u001b[0;34m]\u001b[0m\u001b[0;34m,\u001b[0m \u001b[0;34m[\u001b[0m\u001b[0;34m]\u001b[0m\u001b[0;34m\u001b[0m\u001b[0;34m\u001b[0m\u001b[0m\n",
            "\u001b[0;32m/usr/local/lib/python3.10/dist-packages/torch/nn/modules/linear.py\u001b[0m in \u001b[0;36mforward\u001b[0;34m(self, input)\u001b[0m\n\u001b[1;32m    112\u001b[0m \u001b[0;34m\u001b[0m\u001b[0m\n\u001b[1;32m    113\u001b[0m     \u001b[0;32mdef\u001b[0m \u001b[0mforward\u001b[0m\u001b[0;34m(\u001b[0m\u001b[0mself\u001b[0m\u001b[0;34m,\u001b[0m \u001b[0minput\u001b[0m\u001b[0;34m:\u001b[0m \u001b[0mTensor\u001b[0m\u001b[0;34m)\u001b[0m \u001b[0;34m->\u001b[0m \u001b[0mTensor\u001b[0m\u001b[0;34m:\u001b[0m\u001b[0;34m\u001b[0m\u001b[0;34m\u001b[0m\u001b[0m\n\u001b[0;32m--> 114\u001b[0;31m         \u001b[0;32mreturn\u001b[0m \u001b[0mF\u001b[0m\u001b[0;34m.\u001b[0m\u001b[0mlinear\u001b[0m\u001b[0;34m(\u001b[0m\u001b[0minput\u001b[0m\u001b[0;34m,\u001b[0m \u001b[0mself\u001b[0m\u001b[0;34m.\u001b[0m\u001b[0mweight\u001b[0m\u001b[0;34m,\u001b[0m \u001b[0mself\u001b[0m\u001b[0;34m.\u001b[0m\u001b[0mbias\u001b[0m\u001b[0;34m)\u001b[0m\u001b[0;34m\u001b[0m\u001b[0;34m\u001b[0m\u001b[0m\n\u001b[0m\u001b[1;32m    115\u001b[0m \u001b[0;34m\u001b[0m\u001b[0m\n\u001b[1;32m    116\u001b[0m     \u001b[0;32mdef\u001b[0m \u001b[0mextra_repr\u001b[0m\u001b[0;34m(\u001b[0m\u001b[0mself\u001b[0m\u001b[0;34m)\u001b[0m \u001b[0;34m->\u001b[0m \u001b[0mstr\u001b[0m\u001b[0;34m:\u001b[0m\u001b[0;34m\u001b[0m\u001b[0;34m\u001b[0m\u001b[0m\n",
            "\u001b[0;31mRuntimeError\u001b[0m: mat1 and mat2 shapes cannot be multiplied (3584x28 and 784x10)"
          ]
        }
      ]
    },
    {
      "cell_type": "code",
      "source": [
        "images.shape"
      ],
      "metadata": {
        "colab": {
          "base_uri": "https://localhost:8080/"
        },
        "id": "9y8QbnHgq2FK",
        "outputId": "7676ef06-08e1-42d1-ecbb-8989f2766d70"
      },
      "execution_count": 13,
      "outputs": [
        {
          "output_type": "execute_result",
          "data": {
            "text/plain": [
              "torch.Size([128, 1, 28, 28])"
            ]
          },
          "metadata": {},
          "execution_count": 13
        }
      ]
    },
    {
      "cell_type": "code",
      "source": [
        "images.reshape(128, 784).shape"
      ],
      "metadata": {
        "colab": {
          "base_uri": "https://localhost:8080/"
        },
        "id": "IE3PJZForog3",
        "outputId": "bef7ffcd-64e0-47b7-b7ab-b2a1dbe8d700"
      },
      "execution_count": 14,
      "outputs": [
        {
          "output_type": "execute_result",
          "data": {
            "text/plain": [
              "torch.Size([128, 784])"
            ]
          },
          "metadata": {},
          "execution_count": 14
        }
      ]
    },
    {
      "cell_type": "markdown",
      "source": [
        "The code above leads to an error because our input data does not have the right shape. Our images are of the shape 1x28x28, but we need them to be vectors of size 784, i.e., we need to flatten them. We'll use the .reshape method of a tensor, which will allow us to efficiently 'view' each image as a flat vector without really creating a copy of the underlying data. To include this additional functionality within our model, we need to define a custom model by extending the nn.Module class from PyTorch."
      ],
      "metadata": {
        "id": "e15JgvyfrsB5"
      }
    },
    {
      "cell_type": "markdown",
      "source": [
        "A class in Python provides a \"blueprint\" for creating objects. Let's look at an example of defining a new class in Python."
      ],
      "metadata": {
        "id": "bnCJvpHfr1CF"
      }
    },
    {
      "cell_type": "code",
      "source": [
        "class Person:\n",
        "    # Class constructor\n",
        "    def __init__(self, name, age):\n",
        "        # Object properties\n",
        "        self.name = name\n",
        "        self.age = age\n",
        "\n",
        "    # Method\n",
        "    def say_hello(self):\n",
        "        print(\"Hello my name is \" + self.name + \"!\")"
      ],
      "metadata": {
        "id": "l4iB8sokrsrx"
      },
      "execution_count": 15,
      "outputs": []
    },
    {
      "cell_type": "code",
      "source": [
        "bob = Person(\"Bob\", 32)"
      ],
      "metadata": {
        "id": "eFKiTkA9r2fF"
      },
      "execution_count": 16,
      "outputs": []
    },
    {
      "cell_type": "markdown",
      "source": [
        "The object bob is an instance of the class Person.\n",
        "\n",
        "We can access the object's properties (also called attributes) or invoke its methods using the . notation."
      ],
      "metadata": {
        "id": "accePAnTr42D"
      }
    },
    {
      "cell_type": "code",
      "source": [
        "bob.name, bob.age"
      ],
      "metadata": {
        "colab": {
          "base_uri": "https://localhost:8080/"
        },
        "id": "BMi8hJTFr6SR",
        "outputId": "785d616f-d555-4890-b451-791f716a07d1"
      },
      "execution_count": 17,
      "outputs": [
        {
          "output_type": "execute_result",
          "data": {
            "text/plain": [
              "('Bob', 32)"
            ]
          },
          "metadata": {},
          "execution_count": 17
        }
      ]
    },
    {
      "cell_type": "code",
      "source": [
        "bob.say_hello()"
      ],
      "metadata": {
        "colab": {
          "base_uri": "https://localhost:8080/"
        },
        "id": "S6lbc-QQr87f",
        "outputId": "72f09190-9578-4520-f7db-43f74ba75d94"
      },
      "execution_count": 18,
      "outputs": [
        {
          "output_type": "stream",
          "name": "stdout",
          "text": [
            "Hello my name is Bob!\n"
          ]
        }
      ]
    },
    {
      "cell_type": "code",
      "source": [
        "class MnistModel(nn.Module):\n",
        "    def __init__(self):\n",
        "        super().__init__()\n",
        "        self.linear = nn.Linear(input_size, num_classes)\n",
        "\n",
        "    def forward(self, xb):\n",
        "        xb = xb.reshape(-1, 784)\n",
        "        out = self.linear(xb)\n",
        "        return out\n",
        "\n",
        "model = MnistModel()"
      ],
      "metadata": {
        "id": "wj2RwK_3r98F"
      },
      "execution_count": 21,
      "outputs": []
    },
    {
      "cell_type": "markdown",
      "source": [
        "Inside the __init__ constructor method, we instantiate the weights and biases using nn.Linear. And inside the forward method, which is invoked when we pass a batch of inputs to the model, we flatten the input tensor and pass it into self.linear.\n",
        "\n",
        "xb.reshape(-1, 28*28) indicates to PyTorch that we want a view of the xb tensor with two dimensions. The length along the 2nd dimension is 28*28 (i.e., 784). One argument to .reshape can be set to -1 (in this case, the first dimension) to let PyTorch figure it out automatically based on the shape of the original tensor.\n",
        "\n",
        "Note that the model no longer has .weight and .bias attributes (as they are now inside the .linear attribute), but it does have a .parameters method that returns a list containing the weights and bias."
      ],
      "metadata": {
        "id": "oEyfrzt9tihE"
      }
    },
    {
      "cell_type": "code",
      "source": [
        "model.linear"
      ],
      "metadata": {
        "colab": {
          "base_uri": "https://localhost:8080/"
        },
        "id": "Wim5cgpstmhZ",
        "outputId": "108e0d68-0356-47d5-b9f7-56b6a2e82356"
      },
      "execution_count": 22,
      "outputs": [
        {
          "output_type": "execute_result",
          "data": {
            "text/plain": [
              "Linear(in_features=784, out_features=10, bias=True)"
            ]
          },
          "metadata": {},
          "execution_count": 22
        }
      ]
    },
    {
      "cell_type": "code",
      "source": [
        "print(model.linear.weight.shape, model.linear.bias.shape)\n",
        "list(model.parameters())"
      ],
      "metadata": {
        "colab": {
          "base_uri": "https://localhost:8080/"
        },
        "id": "9aWMcQ8htnvV",
        "outputId": "42b5fc7a-ef8f-4e77-9c5c-78daffac5c2b"
      },
      "execution_count": 23,
      "outputs": [
        {
          "output_type": "stream",
          "name": "stdout",
          "text": [
            "torch.Size([10, 784]) torch.Size([10])\n"
          ]
        },
        {
          "output_type": "execute_result",
          "data": {
            "text/plain": [
              "[Parameter containing:\n",
              " tensor([[-0.0003, -0.0128,  0.0222,  ..., -0.0113, -0.0278,  0.0296],\n",
              "         [-0.0042,  0.0082,  0.0119,  ..., -0.0082, -0.0252, -0.0352],\n",
              "         [ 0.0141,  0.0180, -0.0273,  ..., -0.0355,  0.0101, -0.0148],\n",
              "         ...,\n",
              "         [ 0.0117, -0.0102, -0.0030,  ...,  0.0220,  0.0090, -0.0074],\n",
              "         [-0.0084, -0.0256, -0.0328,  ...,  0.0147,  0.0003, -0.0098],\n",
              "         [-0.0262,  0.0161,  0.0181,  ..., -0.0074, -0.0297,  0.0253]],\n",
              "        requires_grad=True),\n",
              " Parameter containing:\n",
              " tensor([-0.0103,  0.0025,  0.0089, -0.0285, -0.0097,  0.0085, -0.0180, -0.0142,\n",
              "          0.0319, -0.0107], requires_grad=True)]"
            ]
          },
          "metadata": {},
          "execution_count": 23
        }
      ]
    },
    {
      "cell_type": "code",
      "source": [
        "for images, labels in train_loader:\n",
        "    print(images.shape)\n",
        "    outputs = model(images)\n",
        "    break\n",
        "\n",
        "print('outputs.shape : ', outputs.shape)\n",
        "print('Sample outputs :\\n', outputs[:2].data)"
      ],
      "metadata": {
        "colab": {
          "base_uri": "https://localhost:8080/"
        },
        "id": "MoOV62VVttZF",
        "outputId": "d267165e-c61e-4ae9-91c6-46df0c6d9be0"
      },
      "execution_count": 24,
      "outputs": [
        {
          "output_type": "stream",
          "name": "stdout",
          "text": [
            "torch.Size([128, 1, 28, 28])\n",
            "outputs.shape :  torch.Size([128, 10])\n",
            "Sample outputs :\n",
            " tensor([[-0.2171, -0.0299,  0.0624, -0.1525, -0.2221, -0.0397, -0.0032,  0.2166,\n",
            "         -0.0169,  0.1621],\n",
            "        [ 0.1844,  0.0223,  0.1237, -0.1542, -0.2275,  0.1075,  0.1344,  0.1066,\n",
            "          0.1674,  0.0307]])\n"
          ]
        }
      ]
    },
    {
      "cell_type": "code",
      "source": [],
      "metadata": {
        "id": "RgfzFwoitvM9"
      },
      "execution_count": null,
      "outputs": []
    },
    {
      "cell_type": "markdown",
      "source": [
        "For each of the 100 input images, we get 10 outputs, one for each class. As discussed earlier, we'd like these outputs to represent probabilities. Each output row's elements must lie between 0 to 1 and add up to 1, which is not the case."
      ],
      "metadata": {
        "id": "Gac3Hha_txu8"
      }
    },
    {
      "cell_type": "markdown",
      "source": [
        "Then, we divide them by their sum to ensure that they add up to 1. The resulting vector can thus be interpreted as probabilities.\n",
        "\n",
        "While it's easy to implement the softmax function (you should try it!), we'll use the implementation that's provided within PyTorch because it works well with multidimensional tensors (a list of output rows in our case)."
      ],
      "metadata": {
        "id": "PNutrUict0lp"
      }
    },
    {
      "cell_type": "code",
      "source": [
        "import torch.nn.functional as F"
      ],
      "metadata": {
        "id": "51UVZyvqtyLs"
      },
      "execution_count": 25,
      "outputs": []
    },
    {
      "cell_type": "markdown",
      "source": [
        "The softmax function is included in the torch.nn.functional package and requires us to specify a dimension along which the function should be ap"
      ],
      "metadata": {
        "id": "R4yBak1NveCv"
      }
    },
    {
      "cell_type": "code",
      "source": [
        "outputs[:2]"
      ],
      "metadata": {
        "colab": {
          "base_uri": "https://localhost:8080/"
        },
        "id": "iPDCrn9Hvg2A",
        "outputId": "a9bd967b-6637-4bbd-ae85-f573a69b33c7"
      },
      "execution_count": 26,
      "outputs": [
        {
          "output_type": "execute_result",
          "data": {
            "text/plain": [
              "tensor([[-0.2171, -0.0299,  0.0624, -0.1525, -0.2221, -0.0397, -0.0032,  0.2166,\n",
              "         -0.0169,  0.1621],\n",
              "        [ 0.1844,  0.0223,  0.1237, -0.1542, -0.2275,  0.1075,  0.1344,  0.1066,\n",
              "          0.1674,  0.0307]], grad_fn=<SliceBackward0>)"
            ]
          },
          "metadata": {},
          "execution_count": 26
        }
      ]
    },
    {
      "cell_type": "code",
      "source": [
        "# Apply softmax for each output row\n",
        "probs = F.softmax(outputs, dim=1)\n",
        "\n",
        "# Look at sample probabilities\n",
        "print(\"Sample probabilities:\\n\", probs[:2].data)\n",
        "\n",
        "# Add up the probabilities of an output row\n",
        "print(\"Sum: \", torch.sum(probs[0]).item())"
      ],
      "metadata": {
        "colab": {
          "base_uri": "https://localhost:8080/"
        },
        "id": "egUVBIQEviUC",
        "outputId": "ea2ea0ae-beb7-4bd9-d2c8-cbfe914dae02"
      },
      "execution_count": 27,
      "outputs": [
        {
          "output_type": "stream",
          "name": "stdout",
          "text": [
            "Sample probabilities:\n",
            " tensor([[0.0816, 0.0984, 0.1080, 0.0871, 0.0812, 0.0975, 0.1011, 0.1260, 0.0997,\n",
            "         0.1193],\n",
            "        [0.1135, 0.0965, 0.1068, 0.0809, 0.0752, 0.1051, 0.1080, 0.1050, 0.1116,\n",
            "         0.0973]])\n",
            "Sum:  0.9999998807907104\n"
          ]
        }
      ]
    },
    {
      "cell_type": "markdown",
      "source": [
        "Finally, we can determine the predicted label for each image by simply choosing the index of the element with the highest probability in each output row. We can do this using torch.max, which returns each row's largest element and the corresponding index."
      ],
      "metadata": {
        "id": "CSOz7Vy5vlc4"
      }
    },
    {
      "cell_type": "code",
      "source": [
        "max_probs, preds = torch.max(probs, dim=1)\n",
        "print(preds)\n",
        "print(max_probs)"
      ],
      "metadata": {
        "colab": {
          "base_uri": "https://localhost:8080/"
        },
        "id": "-6MnGqCHvi18",
        "outputId": "094687c4-a8df-4080-a073-97693f96dd64"
      },
      "execution_count": 28,
      "outputs": [
        {
          "output_type": "stream",
          "name": "stdout",
          "text": [
            "tensor([7, 0, 1, 1, 1, 1, 2, 6, 9, 5, 9, 9, 1, 6, 7, 2, 5, 1, 1, 1, 6, 1, 0, 7,\n",
            "        7, 6, 1, 2, 1, 6, 2, 3, 8, 7, 8, 2, 5, 7, 9, 9, 9, 5, 9, 1, 1, 9, 7, 8,\n",
            "        7, 9, 5, 1, 6, 8, 2, 1, 2, 8, 2, 6, 3, 2, 6, 9, 7, 7, 2, 7, 2, 7, 7, 2,\n",
            "        1, 5, 0, 7, 5, 7, 7, 4, 7, 7, 0, 9, 1, 0, 1, 2, 7, 7, 7, 2, 6, 2, 7, 2,\n",
            "        7, 5, 1, 9, 5, 1, 1, 1, 2, 2, 1, 9, 0, 9, 7, 1, 5, 8, 2, 1, 1, 7, 7, 7,\n",
            "        7, 5, 7, 1, 7, 2, 7, 2])\n",
            "tensor([0.1260, 0.1135, 0.1249, 0.1359, 0.1165, 0.1413, 0.1305, 0.1247, 0.1294,\n",
            "        0.1133, 0.1223, 0.1298, 0.1179, 0.1297, 0.1189, 0.1433, 0.1321, 0.1313,\n",
            "        0.1273, 0.1199, 0.1211, 0.1282, 0.1251, 0.1437, 0.1360, 0.1155, 0.1347,\n",
            "        0.1268, 0.1271, 0.1240, 0.1279, 0.1150, 0.1221, 0.1086, 0.1216, 0.1187,\n",
            "        0.1172, 0.1277, 0.1265, 0.1239, 0.1372, 0.1139, 0.1252, 0.1226, 0.1262,\n",
            "        0.1366, 0.1196, 0.1258, 0.1504, 0.1351, 0.1238, 0.1129, 0.1207, 0.1172,\n",
            "        0.1505, 0.1268, 0.1326, 0.1238, 0.1323, 0.1171, 0.1163, 0.1181, 0.1589,\n",
            "        0.1256, 0.1142, 0.1183, 0.1203, 0.1251, 0.1248, 0.1343, 0.1369, 0.1296,\n",
            "        0.1407, 0.1204, 0.1191, 0.1537, 0.1133, 0.1164, 0.1281, 0.1293, 0.1245,\n",
            "        0.1201, 0.1202, 0.1264, 0.1173, 0.1224, 0.1475, 0.1217, 0.1347, 0.1241,\n",
            "        0.1430, 0.1374, 0.1275, 0.1221, 0.1194, 0.1296, 0.1291, 0.1181, 0.1107,\n",
            "        0.1381, 0.1209, 0.1101, 0.1297, 0.1361, 0.1204, 0.1232, 0.1356, 0.1327,\n",
            "        0.1122, 0.1215, 0.1541, 0.1350, 0.1269, 0.1221, 0.1281, 0.1195, 0.1264,\n",
            "        0.1641, 0.1230, 0.1324, 0.1168, 0.1159, 0.1262, 0.1175, 0.1203, 0.1094,\n",
            "        0.1384, 0.1320], grad_fn=<MaxBackward0>)\n"
          ]
        }
      ]
    },
    {
      "cell_type": "code",
      "source": [],
      "metadata": {
        "id": "qQqZuewIvncH"
      },
      "execution_count": null,
      "outputs": []
    },
    {
      "cell_type": "markdown",
      "source": [
        "The numbers printed above are the predicted labels for the first batch of training images. Let's compare them with the actual labels."
      ],
      "metadata": {
        "id": "dm0G2xjkvrKz"
      }
    },
    {
      "cell_type": "code",
      "source": [
        "labels"
      ],
      "metadata": {
        "colab": {
          "base_uri": "https://localhost:8080/"
        },
        "id": "yj2I6LV0vraI",
        "outputId": "3dcd3e33-ae30-4efa-e61e-55bc0eaf4b97"
      },
      "execution_count": 29,
      "outputs": [
        {
          "output_type": "execute_result",
          "data": {
            "text/plain": [
              "tensor([9, 9, 5, 3, 9, 1, 6, 4, 2, 8, 4, 5, 0, 8, 5, 1, 9, 1, 3, 2, 6, 2, 9, 0,\n",
              "        0, 0, 8, 1, 3, 3, 1, 4, 2, 3, 1, 3, 7, 2, 9, 6, 7, 4, 4, 2, 7, 5, 3, 4,\n",
              "        9, 0, 4, 4, 0, 2, 6, 6, 1, 2, 8, 3, 9, 2, 6, 4, 2, 8, 7, 7, 1, 5, 4, 1,\n",
              "        3, 9, 3, 8, 9, 8, 2, 7, 0, 4, 8, 4, 2, 8, 4, 9, 5, 2, 9, 6, 2, 1, 7, 1,\n",
              "        9, 7, 3, 0, 1, 5, 3, 5, 7, 2, 1, 4, 3, 7, 5, 2, 4, 9, 6, 0, 0, 5, 7, 5,\n",
              "        4, 1, 6, 3, 7, 1, 9, 6])"
            ]
          },
          "metadata": {},
          "execution_count": 29
        }
      ]
    },
    {
      "cell_type": "markdown",
      "source": [
        "Most of the predicted labels are different from the actual labels. That's because we have started with randomly initialized weights and biases. We need to train the model, i.e., adjust the weights using gradient descent to make better predictions."
      ],
      "metadata": {
        "id": "X2GZ9zyrvuIX"
      }
    },
    {
      "cell_type": "markdown",
      "source": [
        "# Evaluation Metric and Loss Function\n",
        "\n",
        "Just as with linear regression, we need a way to evaluate how well our model is performing. A natural way to do this would be to find the percentage of labels that were predicted correctly, i.e,. the accuracy of the predictions."
      ],
      "metadata": {
        "id": "gbzSKktrvwpp"
      }
    },
    {
      "cell_type": "code",
      "source": [
        "outputs[:2]"
      ],
      "metadata": {
        "colab": {
          "base_uri": "https://localhost:8080/"
        },
        "id": "EVYGLiQcvuzr",
        "outputId": "80652bd0-554a-4e14-eecb-04138adb5a4a"
      },
      "execution_count": 30,
      "outputs": [
        {
          "output_type": "execute_result",
          "data": {
            "text/plain": [
              "tensor([[-0.2171, -0.0299,  0.0624, -0.1525, -0.2221, -0.0397, -0.0032,  0.2166,\n",
              "         -0.0169,  0.1621],\n",
              "        [ 0.1844,  0.0223,  0.1237, -0.1542, -0.2275,  0.1075,  0.1344,  0.1066,\n",
              "          0.1674,  0.0307]], grad_fn=<SliceBackward0>)"
            ]
          },
          "metadata": {},
          "execution_count": 30
        }
      ]
    },
    {
      "cell_type": "code",
      "source": [
        "torch.sum(preds == labels)"
      ],
      "metadata": {
        "colab": {
          "base_uri": "https://localhost:8080/"
        },
        "id": "dTNmGhSTv0r7",
        "outputId": "f06cc78d-7842-43c0-ad3b-72aba31732e0"
      },
      "execution_count": 31,
      "outputs": [
        {
          "output_type": "execute_result",
          "data": {
            "text/plain": [
              "tensor(12)"
            ]
          },
          "metadata": {},
          "execution_count": 31
        }
      ]
    },
    {
      "cell_type": "code",
      "source": [
        "def accuracy(outputs, labels):\n",
        "    _, preds = torch.max(outputs, dim=1)\n",
        "    return torch.tensor(torch.sum(preds == labels).item() / len(preds))"
      ],
      "metadata": {
        "id": "h2j4RP4sv1gl"
      },
      "execution_count": 32,
      "outputs": []
    },
    {
      "cell_type": "markdown",
      "source": [
        "The == operator performs an element-wise comparison of two tensors with the same shape and returns a tensor of the same shape, containing True for unequal elements and False for equal elements. Passing the result to torch.sum returns the number of labels that were predicted correctly. Finally, we divide by the total number of images to get the accuracy.\n",
        "\n",
        "Note that we don't need to apply softmax to the outputs since its results have the same relative order. This is because e^x is an increasing function, i.e., if y1 > y2, then e^y1 > e^y2. The same holds after averaging out the values to get the softmax.\n",
        "\n",
        "Let's calculate the accuracy of the current model on the first batch of data."
      ],
      "metadata": {
        "id": "2Tvnnf6Av5HK"
      }
    },
    {
      "cell_type": "code",
      "source": [
        "accuracy(outputs, labels)"
      ],
      "metadata": {
        "colab": {
          "base_uri": "https://localhost:8080/"
        },
        "id": "n2z1djXXv3VT",
        "outputId": "5af024d2-7f9d-4584-f639-74c00b8ca5c3"
      },
      "execution_count": 33,
      "outputs": [
        {
          "output_type": "execute_result",
          "data": {
            "text/plain": [
              "tensor(0.0938)"
            ]
          },
          "metadata": {},
          "execution_count": 33
        }
      ]
    },
    {
      "cell_type": "code",
      "source": [
        "probs"
      ],
      "metadata": {
        "colab": {
          "base_uri": "https://localhost:8080/"
        },
        "id": "y7oV51LLv-QI",
        "outputId": "c999068e-8225-41c4-debb-72fd700dee0c"
      },
      "execution_count": 34,
      "outputs": [
        {
          "output_type": "execute_result",
          "data": {
            "text/plain": [
              "tensor([[0.0816, 0.0984, 0.1080,  ..., 0.1260, 0.0997, 0.1193],\n",
              "        [0.1135, 0.0965, 0.1068,  ..., 0.1050, 0.1116, 0.0973],\n",
              "        [0.1029, 0.1249, 0.1055,  ..., 0.1188, 0.0814, 0.1089],\n",
              "        ...,\n",
              "        [0.1002, 0.1070, 0.1094,  ..., 0.0865, 0.1080, 0.1008],\n",
              "        [0.0745, 0.1212, 0.0974,  ..., 0.1384, 0.0942, 0.1191],\n",
              "        [0.0853, 0.1027, 0.1320,  ..., 0.0971, 0.1189, 0.1116]],\n",
              "       grad_fn=<SoftmaxBackward0>)"
            ]
          },
          "metadata": {},
          "execution_count": 34
        }
      ]
    },
    {
      "cell_type": "markdown",
      "source": [
        "Accuracy is an excellent way for us (humans) to evaluate the model. However, we can't use it as a loss function for optimizing our model using gradient descent for the following reasons:\n",
        "\n",
        "1. It's not a differentiable function. torch.max and == are both non-continuous and non-differentiable operations, so we can't use the accuracy for computing gradients w.r.t the weights and biases.\n",
        "\n",
        "2. It doesn't take into account the actual probabilities predicted by the model, so it can't provide sufficient feedback for incremental improvements.\n",
        "\n",
        "3. For these reasons, accuracy is often used as an evaluation metric for classification, but not as a loss function. A commonly used loss function for classification problems is the cross-entropy, which has the following formula:\n",
        "\n"
      ],
      "metadata": {
        "id": "rxnQsWpJwBTm"
      }
    },
    {
      "cell_type": "markdown",
      "source": [
        "Unlike accuracy, cross-entropy is a continuous and differentiable function. It also provides useful feedback for incremental improvements in the model (a slightly higher probability for the correct label leads to a lower loss). These two factors make cross-entropy a better choice for the loss function.\n",
        "\n",
        "As you might expect, PyTorch provides an efficient and tensor-friendly implementation of cross-entropy as part of the torch.nn.functional package. Moreover, it also performs softmax internally, so we can directly pass in the model's outputs without converting them into probabilities."
      ],
      "metadata": {
        "id": "POuPgrYcwR5T"
      }
    },
    {
      "cell_type": "code",
      "source": [
        "loss_fn = F.cross_entropy"
      ],
      "metadata": {
        "id": "fK6Atj_8wSN6"
      },
      "execution_count": 35,
      "outputs": []
    },
    {
      "cell_type": "code",
      "source": [
        "# Loss for current batch of data\n",
        "loss = loss_fn(outputs, labels)\n",
        "print(loss)"
      ],
      "metadata": {
        "colab": {
          "base_uri": "https://localhost:8080/"
        },
        "id": "vZYeXj5rwTz9",
        "outputId": "7088f8df-788c-4871-ad73-c43efb8a3037"
      },
      "execution_count": 36,
      "outputs": [
        {
          "output_type": "stream",
          "name": "stdout",
          "text": [
            "tensor(2.3282, grad_fn=<NllLossBackward0>)\n"
          ]
        }
      ]
    },
    {
      "cell_type": "markdown",
      "source": [
        "We know that cross-entropy is the negative logarithm of the predicted probability of the correct label averaged over all training samples. Therefore, one way to interpret the resulting number e.g. 2.23 is look at e^-2.23 which is around 0.1 as the predicted probability of the correct label, on average. The lower the loss, The better the model."
      ],
      "metadata": {
        "id": "MBBPHG_ywYw8"
      }
    },
    {
      "cell_type": "markdown",
      "source": [
        "# Training the model\n",
        "\n",
        "Now that we have defined the data loaders, model, loss function and optimizer, we are ready to train the model. The training process is identical to linear regression, with the addition of a \"validation phase\" to evaluate the model in each epoch. Here's what it looks like in pseudocode:\n",
        "\n",
        "```\n",
        "for epoch in range(num_epochs):\n",
        "    # Training phase\n",
        "    for batch in train_loader:\n",
        "        # Generate predictions\n",
        "        # Calculate loss\n",
        "        # Compute gradients\n",
        "        # Update weights\n",
        "        # Reset gradients\n",
        "    \n",
        "    # Validation phase\n",
        "    for batch in val_loader:\n",
        "        # Generate predictions\n",
        "        # Calculate loss\n",
        "        # Calculate metrics (accuracy etc.)\n",
        "    # Calculate average validation loss & metrics\n",
        "    \n",
        "    # Log epoch, loss & metrics for inspection\n",
        "```"
      ],
      "metadata": {
        "id": "EF0QL9uWwaa0"
      }
    },
    {
      "cell_type": "markdown",
      "source": [
        "Some parts of the training loop are specific the specific problem we're solving (e.g. loss function, metrics etc.) whereas others are generic and can be applied to any deep learning problem.\n",
        "\n",
        "We'll include the problem-independent parts within a function called fit, which will be used to train the model. The problem-specific parts will be implemented by adding new methods to the nn.Module class."
      ],
      "metadata": {
        "id": "V_BHg7Dywiig"
      }
    },
    {
      "cell_type": "code",
      "source": [
        "def fit(epochs, lr, model, train_loader, val_loader, opt_func=torch.optim.SGD):\n",
        "    optimizer = opt_func(model.parameters(), lr)\n",
        "    history = [] # for recording epoch-wise results\n",
        "\n",
        "    for epoch in range(epochs):\n",
        "\n",
        "        # Training Phase\n",
        "        for batch in train_loader:\n",
        "            loss = model.training_step(batch)\n",
        "            loss.backward()\n",
        "            optimizer.step()\n",
        "            optimizer.zero_grad()\n",
        "\n",
        "        # Validation phase\n",
        "        result = evaluate(model, val_loader)\n",
        "        model.epoch_end(epoch, result)\n",
        "        history.append(result)\n",
        "\n",
        "    return history"
      ],
      "metadata": {
        "id": "RQh9cazywgYx"
      },
      "execution_count": 37,
      "outputs": []
    },
    {
      "cell_type": "markdown",
      "source": [
        "The fit function records the validation loss and metric from each epoch. It returns a history of the training, useful for debugging & visualization.\n",
        "\n",
        "Configurations like batch size, learning rate, etc. (called hyperparameters), need to picked in advance while training machine learning models. Choosing the right hyperparameters is critical for training a reasonably accurate model within a reasonable amount of time. It is an active area of research and experimentation in machine learning. Feel free to try different learning rates and see how it affects the training process.\n",
        "\n",
        "Let's define the evaluate function, used in the validation phase of fit."
      ],
      "metadata": {
        "id": "n5K8MTnFwmV9"
      }
    },
    {
      "cell_type": "code",
      "source": [
        "l1 = [1, 2, 3, 4, 5]\n",
        "\n",
        "l2 = [x*2 for x in l1]\n",
        "l2"
      ],
      "metadata": {
        "colab": {
          "base_uri": "https://localhost:8080/"
        },
        "id": "Um88Npmhwmjc",
        "outputId": "8cb94721-0d68-48ff-9f32-9befc35d44b4"
      },
      "execution_count": 38,
      "outputs": [
        {
          "output_type": "execute_result",
          "data": {
            "text/plain": [
              "[2, 4, 6, 8, 10]"
            ]
          },
          "metadata": {},
          "execution_count": 38
        }
      ]
    },
    {
      "cell_type": "code",
      "source": [
        "def evaluate(model, val_loader):\n",
        "    outputs = [model.validation_step(batch) for batch in val_loader]\n",
        "    return model.validation_epoch_end(outputs)"
      ],
      "metadata": {
        "id": "abaXOBBrwpJv"
      },
      "execution_count": 39,
      "outputs": []
    },
    {
      "cell_type": "code",
      "source": [
        "class MnistModel(nn.Module):\n",
        "    def __init__(self):\n",
        "        super().__init__()\n",
        "        self.linear = nn.Linear(input_size, num_classes)\n",
        "\n",
        "    def forward(self, xb):\n",
        "        xb = xb.reshape(-1, 784)\n",
        "        out = self.linear(xb)\n",
        "        return out\n",
        "\n",
        "    def training_step(self, batch):\n",
        "        images, labels = batch\n",
        "        out = self(images)                  # Generate predictions\n",
        "        loss = F.cross_entropy(out, labels) # Calculate loss\n",
        "        return loss\n",
        "\n",
        "    def validation_step(self, batch):\n",
        "        images, labels = batch\n",
        "        out = self(images)                    # Generate predictions\n",
        "        loss = F.cross_entropy(out, labels)   # Calculate loss\n",
        "        acc = accuracy(out, labels)           # Calculate accuracy\n",
        "        return {'val_loss': loss, 'val_acc': acc}\n",
        "\n",
        "    def validation_epoch_end(self, outputs):\n",
        "        batch_losses = [x['val_loss'] for x in outputs]\n",
        "        epoch_loss = torch.stack(batch_losses).mean()   # Combine losses\n",
        "        batch_accs = [x['val_acc'] for x in outputs]\n",
        "        epoch_acc = torch.stack(batch_accs).mean()      # Combine accuracies\n",
        "        return {'val_loss': epoch_loss.item(), 'val_acc': epoch_acc.item()}\n",
        "\n",
        "    def epoch_end(self, epoch, result):\n",
        "        print(\"Epoch [{}], val_loss: {:.4f}, val_acc: {:.4f}\".format(epoch, result['val_loss'], result['val_acc']))\n",
        "\n",
        "model = MnistModel()"
      ],
      "metadata": {
        "id": "_TRitQQwwqb-"
      },
      "execution_count": 40,
      "outputs": []
    },
    {
      "cell_type": "code",
      "source": [
        "result0 = evaluate(model, val_loader)\n",
        "result0"
      ],
      "metadata": {
        "colab": {
          "base_uri": "https://localhost:8080/"
        },
        "id": "zODkVeMjw07o",
        "outputId": "6dad9bcb-7983-4e1a-bee7-492b1e38ec83"
      },
      "execution_count": 41,
      "outputs": [
        {
          "output_type": "execute_result",
          "data": {
            "text/plain": [
              "{'val_loss': 2.295954942703247, 'val_acc': 0.1539754718542099}"
            ]
          },
          "metadata": {},
          "execution_count": 41
        }
      ]
    },
    {
      "cell_type": "markdown",
      "source": [
        "The initial accuracy is around 10%, which one might expect from a randomly initialized model (since it has a 1 in 10 chance of getting a label right by guessing randomly).\n",
        "\n",
        "We are now ready to train the model. Let's train for five epochs and look at the results."
      ],
      "metadata": {
        "id": "mk1wgEU2w5Tt"
      }
    },
    {
      "cell_type": "code",
      "source": [
        "history1 = fit(5, 0.001, model, train_loader, val_loader)"
      ],
      "metadata": {
        "colab": {
          "base_uri": "https://localhost:8080/"
        },
        "id": "e_ZHVJ4Ow57o",
        "outputId": "7c781549-6083-4f27-9154-83c30c06f952"
      },
      "execution_count": 42,
      "outputs": [
        {
          "output_type": "stream",
          "name": "stdout",
          "text": [
            "Epoch [0], val_loss: 1.9286, val_acc: 0.6273\n",
            "Epoch [1], val_loss: 1.6633, val_acc: 0.7272\n",
            "Epoch [2], val_loss: 1.4655, val_acc: 0.7607\n",
            "Epoch [3], val_loss: 1.3159, val_acc: 0.7830\n",
            "Epoch [4], val_loss: 1.2009, val_acc: 0.7985\n"
          ]
        }
      ]
    },
    {
      "cell_type": "markdown",
      "source": [
        "That's a great result! With just 5 epochs of training, our model has reached an accuracy of over 80% on the validation set. Let's see if we can improve that by training for a few more epochs. Try changing the learning rates and number of epochs in each of the cells below."
      ],
      "metadata": {
        "id": "Wdz6MwXIw9B_"
      }
    },
    {
      "cell_type": "code",
      "source": [
        "history2 = fit(5, 0.001, model, train_loader, val_loader)"
      ],
      "metadata": {
        "colab": {
          "base_uri": "https://localhost:8080/"
        },
        "id": "XdPcZbF_w-GQ",
        "outputId": "939fb36a-40fe-40a4-8fc2-49f5c488b0cf"
      },
      "execution_count": 43,
      "outputs": [
        {
          "output_type": "stream",
          "name": "stdout",
          "text": [
            "Epoch [0], val_loss: 1.1105, val_acc: 0.8087\n",
            "Epoch [1], val_loss: 1.0378, val_acc: 0.8168\n",
            "Epoch [2], val_loss: 0.9783, val_acc: 0.8222\n",
            "Epoch [3], val_loss: 0.9288, val_acc: 0.8266\n",
            "Epoch [4], val_loss: 0.8869, val_acc: 0.8299\n"
          ]
        }
      ]
    },
    {
      "cell_type": "code",
      "source": [
        "history3 = fit(5, 0.001, model, train_loader, val_loader)"
      ],
      "metadata": {
        "colab": {
          "base_uri": "https://localhost:8080/"
        },
        "id": "iTig_ik5xP2c",
        "outputId": "f3cc2fea-96d4-458e-b965-0ea3220f03e1"
      },
      "execution_count": 44,
      "outputs": [
        {
          "output_type": "stream",
          "name": "stdout",
          "text": [
            "Epoch [0], val_loss: 0.8510, val_acc: 0.8335\n",
            "Epoch [1], val_loss: 0.8199, val_acc: 0.8372\n",
            "Epoch [2], val_loss: 0.7926, val_acc: 0.8398\n",
            "Epoch [3], val_loss: 0.7685, val_acc: 0.8423\n",
            "Epoch [4], val_loss: 0.7470, val_acc: 0.8448\n"
          ]
        }
      ]
    },
    {
      "cell_type": "code",
      "source": [
        "history4 = fit(5, 0.001, model, train_loader, val_loader)"
      ],
      "metadata": {
        "colab": {
          "base_uri": "https://localhost:8080/"
        },
        "id": "YV5Qu3IAxRT-",
        "outputId": "10bb37e5-fb7e-413e-cac6-9a7a219cbfd3"
      },
      "execution_count": 45,
      "outputs": [
        {
          "output_type": "stream",
          "name": "stdout",
          "text": [
            "Epoch [0], val_loss: 0.7278, val_acc: 0.8475\n",
            "Epoch [1], val_loss: 0.7105, val_acc: 0.8489\n",
            "Epoch [2], val_loss: 0.6947, val_acc: 0.8507\n",
            "Epoch [3], val_loss: 0.6803, val_acc: 0.8529\n",
            "Epoch [4], val_loss: 0.6671, val_acc: 0.8538\n"
          ]
        }
      ]
    },
    {
      "cell_type": "markdown",
      "source": [
        "While the accuracy does continue to increase as we train for more epochs, the improvements get smaller with every epoch. Let's visualize this using a line graph."
      ],
      "metadata": {
        "id": "W5w4DgZIxU34"
      }
    },
    {
      "cell_type": "code",
      "source": [
        "import matplotlib.pyplot as plt\n",
        "%matplotlib inline\n",
        "\n",
        "history = [result0] + history1 + history2 + history3 + history4\n",
        "accuracies = [result['val_acc'] for result in history]\n",
        "plt.plot(accuracies, '-x')\n",
        "plt.xlabel('epoch')\n",
        "plt.ylabel('accuracy')\n",
        "plt.title('Accuracy vs. No. of epochs');"
      ],
      "metadata": {
        "colab": {
          "base_uri": "https://localhost:8080/",
          "height": 472
        },
        "id": "jgg4Lo9rxWVC",
        "outputId": "5404eb1a-5f41-47fe-d5d9-c86233f05ce5"
      },
      "execution_count": 47,
      "outputs": [
        {
          "output_type": "display_data",
          "data": {
            "text/plain": [
              "<Figure size 640x480 with 1 Axes>"
            ],
            "image/png": "[encoded data removed]"
          },
          "metadata": {}
        }
      ]
    },
    {
      "cell_type": "code",
      "source": [
        "#Saving and loading the model\n",
        "torch.save(model.state_dict(), 'mnist-logistic.pth')"
      ],
      "metadata": {
        "id": "CowADrcTx9KX"
      },
      "execution_count": 48,
      "outputs": []
    },
    {
      "cell_type": "markdown",
      "source": [
        "The .state_dict method returns an OrderedDict containing all the weights and bias matrices mapped to the right attributes of the model."
      ],
      "metadata": {
        "id": "U4H2G-yoyRvB"
      }
    },
    {
      "cell_type": "code",
      "source": [
        "model.state_dict()"
      ],
      "metadata": {
        "colab": {
          "base_uri": "https://localhost:8080/"
        },
        "id": "mqlNmzsayN5U",
        "outputId": "a261aef6-a282-4b46-b1a0-72c485f3119b"
      },
      "execution_count": 49,
      "outputs": [
        {
          "output_type": "execute_result",
          "data": {
            "text/plain": [
              "OrderedDict([('linear.weight',\n",
              "              tensor([[ 0.0055, -0.0196, -0.0026,  ..., -0.0111, -0.0052,  0.0274],\n",
              "                      [ 0.0258,  0.0302,  0.0353,  ...,  0.0060, -0.0309,  0.0104],\n",
              "                      [ 0.0224, -0.0062, -0.0047,  ..., -0.0207,  0.0324,  0.0082],\n",
              "                      ...,\n",
              "                      [ 0.0002, -0.0190,  0.0111,  ..., -0.0072, -0.0255, -0.0025],\n",
              "                      [ 0.0008, -0.0096, -0.0252,  ...,  0.0112,  0.0240, -0.0269],\n",
              "                      [-0.0074, -0.0211, -0.0228,  ...,  0.0217,  0.0219, -0.0272]])),\n",
              "             ('linear.bias',\n",
              "              tensor([-0.0434,  0.0937, -0.0471, -0.0041,  0.0417,  0.0416, -0.0067,  0.0731,\n",
              "                      -0.1013, -0.0212]))])"
            ]
          },
          "metadata": {},
          "execution_count": 49
        }
      ]
    },
    {
      "cell_type": "markdown",
      "source": [
        "To load the model weights, we can instante a new object of the class MnistModel, and use the .load_state_dict method."
      ],
      "metadata": {
        "id": "TDejUVSayT36"
      }
    },
    {
      "cell_type": "code",
      "source": [
        "model2 = MnistModel()"
      ],
      "metadata": {
        "id": "KgTzMRUzyVa0"
      },
      "execution_count": 50,
      "outputs": []
    },
    {
      "cell_type": "code",
      "source": [
        "model2.state_dict()"
      ],
      "metadata": {
        "colab": {
          "base_uri": "https://localhost:8080/"
        },
        "id": "c5t-Lp1EyXzr",
        "outputId": "d6e5675c-d6b3-4cf6-8f4b-3424d2df11db"
      },
      "execution_count": 51,
      "outputs": [
        {
          "output_type": "execute_result",
          "data": {
            "text/plain": [
              "OrderedDict([('linear.weight',\n",
              "              tensor([[-0.0174,  0.0225, -0.0011,  ..., -0.0054, -0.0149, -0.0218],\n",
              "                      [ 0.0073, -0.0297,  0.0340,  ...,  0.0308,  0.0344,  0.0057],\n",
              "                      [-0.0286,  0.0070, -0.0280,  ...,  0.0264,  0.0217, -0.0238],\n",
              "                      ...,\n",
              "                      [ 0.0011,  0.0133,  0.0107,  ...,  0.0158,  0.0090,  0.0323],\n",
              "                      [-0.0355, -0.0222,  0.0106,  ...,  0.0203,  0.0156,  0.0286],\n",
              "                      [-0.0146, -0.0101,  0.0013,  ...,  0.0327, -0.0211, -0.0119]])),\n",
              "             ('linear.bias',\n",
              "              tensor([-0.0148, -0.0059, -0.0263, -0.0031,  0.0257,  0.0218, -0.0260, -0.0230,\n",
              "                       0.0232,  0.0127]))])"
            ]
          },
          "metadata": {},
          "execution_count": 51
        }
      ]
    },
    {
      "cell_type": "code",
      "source": [
        "model2.load_state_dict(torch.load('mnist-logistic.pth'))\n",
        "model2.state_dict()"
      ],
      "metadata": {
        "colab": {
          "base_uri": "https://localhost:8080/"
        },
        "id": "BI7lkA74yYAw",
        "outputId": "f4ad24fa-502d-4786-ae52-52aacc3f7cf7"
      },
      "execution_count": 52,
      "outputs": [
        {
          "output_type": "execute_result",
          "data": {
            "text/plain": [
              "OrderedDict([('linear.weight',\n",
              "              tensor([[ 0.0055, -0.0196, -0.0026,  ..., -0.0111, -0.0052,  0.0274],\n",
              "                      [ 0.0258,  0.0302,  0.0353,  ...,  0.0060, -0.0309,  0.0104],\n",
              "                      [ 0.0224, -0.0062, -0.0047,  ..., -0.0207,  0.0324,  0.0082],\n",
              "                      ...,\n",
              "                      [ 0.0002, -0.0190,  0.0111,  ..., -0.0072, -0.0255, -0.0025],\n",
              "                      [ 0.0008, -0.0096, -0.0252,  ...,  0.0112,  0.0240, -0.0269],\n",
              "                      [-0.0074, -0.0211, -0.0228,  ...,  0.0217,  0.0219, -0.0272]])),\n",
              "             ('linear.bias',\n",
              "              tensor([-0.0434,  0.0937, -0.0471, -0.0041,  0.0417,  0.0416, -0.0067,  0.0731,\n",
              "                      -0.1013, -0.0212]))])"
            ]
          },
          "metadata": {},
          "execution_count": 52
        }
      ]
    }
  ]
}